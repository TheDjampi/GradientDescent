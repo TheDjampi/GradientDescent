{
 "cells": [
  {
   "cell_type": "code",
   "execution_count": null,
   "metadata": {},
   "outputs": [],
   "source": []
  },
  {
   "cell_type": "markdown",
   "metadata": {},
   "source": [
    "*** Algorithmes d'opotimisation de la formule de mise des parametre de la descente du gradient en python ***"
   ]
  },
  {
   "cell_type": "code",
   "execution_count": null,
   "metadata": {},
   "outputs": [],
   "source": [
    "# import des bibliotheques standart\n",
    "\n",
    "from mpl_toolkits.mplot3d import Axes3D # pour les figures en 3D\n",
    "import matplotlib.pyplot as plt # pour les figures\n",
    "from matplotlib import cm # cm pour colormap\n",
    "import matplotlib.colors\n",
    "\n",
    "from matplotlib import animation, rc # pour faire des graphes animes\n",
    "from IPython.display import HTML # pour afficher du contenu HTML dans le notebook \n",
    "import numpy as np # pour les calculs\n"
   ]
  },
  {
   "cell_type": "markdown",
   "metadata": {},
   "source": [
    "*** Fonction Etudiee : Fonction Sigmoide utilisee pour la regression logistique ***"
   ]
  },
  {
   "cell_type": "code",
   "execution_count": null,
   "metadata": {},
   "outputs": [],
   "source": [
    "# creeons une classe SN pour sigmoid Neuron\n",
    "\n",
    "class SN:\n",
    "\n",
    "    def __init__(self, w_init, b_init, algo) -> None:\n",
    "        self.w = w_init\n",
    "        self.b = b_init\n",
    "        self.w_h = []\n",
    "        self.b_h = []\n",
    "        self.algo = algo\n",
    "\n",
    "    # logistic function\n",
    "    def sigmoid(self, x, w=None, b=None):\n",
    "        if w is None:\n",
    "            w = self.w\n",
    "        if b is None:\n",
    "            b = self.b\n",
    "        return 1. / (1. + np.exp(-(w*x + b)))\n",
    "    \n",
    "    # Loss function\n",
    "    def error(self, X, Y, w=None, b=None):\n",
    "        if w is None:\n",
    "            w = self.w\n",
    "        if b is None:\n",
    "            b = self.b\n",
    "        err = 0\n",
    "        for x, y in zip(X, Y): # pour creer une liste contenant des couples d'elements de X*Y\n",
    "            err += 0.5 * (self.sigmoid(x, w, b) - y) ** 2\n",
    "        return err\n",
    "    \n",
    "    # calculate the gradiant of w\n",
    "    def grad_w(self, x, y, w=None, b=None):\n",
    "        if w is None:\n",
    "            w = self.w\n",
    "        if b is None :\n",
    "            b = self.b\n",
    "        y_pred = self.sigmoid(x, w, b) # on calcule les valeurs predite par le reseau de neurones\n",
    "        return (y_pred - y) * y_pred * (1 - y_pred) * x\n",
    "    \n",
    "    # calculate The gradient of b\n",
    "    def grad_b(self, x, y, w=None, b=None):\n",
    "        if w is None:\n",
    "            w = self.w\n",
    "        if b is None :\n",
    "            b = self.b\n",
    "        y_pred = self.sigmoid(x, w, b)\n",
    "        return (y_pred - y) * y_pred * (1 - y_pred)\n",
    "    \n",
    "    # fitting function for the model\n",
    "    def fit(self, X, Y, epochs=100, eta=0.01, gamma=0.9, mini_batch_size=100, eps=1e-8, beta=0.9, beta1=0.9, beta2=0.9):\n",
    "        self.w_h = []\n",
    "        self.b_h = []\n",
    "        self.X = X\n",
    "        self.Y = Y\n",
    "\n",
    "        if self.algo == 'GD':\n",
    "            for i in range(epochs):\n",
    "                dw, db = 0, 0\n",
    "                for x, y in zip(X, Y):\n",
    "                    dw += self.grad_w(x, y)\n",
    "                    db += self.grad_b(x, y)\n",
    "                self.w -= eta * dw / X.shape[0]\n",
    "                self.b -= eta * db / X.shape[0]\n",
    "                self.append_log()\n",
    "\n",
    "        elif self.algo == 'MiniBatch':\n",
    "            for i in range(epochs):\n",
    "                dw, db = 0, 0\n",
    "                points_seen = 0\n",
    "                for x, y in zip(X, Y):\n",
    "                    dw += self.grad_w(x, y)\n",
    "                    db += self.grad_b(x, y)\n",
    "                    points_seen += 1\n",
    "                if points_seen % mini_batch_size == 0 :\n",
    "                    self.w -= eta * dw / mini_batch_size\n",
    "                    self.b -= eta * db / mini_batch_size\n",
    "                    self.append_log()\n",
    "                    dw, db = 0, 0\n",
    "\n"
   ]
  }
 ],
 "metadata": {
  "kernelspec": {
   "display_name": "Python 3",
   "language": "python",
   "name": "python3"
  },
  "language_info": {
   "name": "python",
   "version": "3.8.10"
  },
  "orig_nbformat": 4
 },
 "nbformat": 4,
 "nbformat_minor": 2
}
